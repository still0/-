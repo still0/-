{
 "cells": [
  {
   "cell_type": "markdown",
   "metadata": {},
   "source": [
    "# 异常模块练习"
   ]
  },
  {
   "cell_type": "code",
   "execution_count": 3,
   "metadata": {},
   "outputs": [
    {
     "name": "stdout",
     "output_type": "stream",
     "text": [
      "write a number-1\n",
      "input must > 0\n",
      "write a number1\n",
      "input must =! 1\n",
      "write a numberq\n"
     ]
    }
   ],
   "source": [
    "import math\n",
    "for i in range(8):\n",
    "    try:\n",
    "        input_number = input('write a number')\n",
    "        if input_number =='q':\n",
    "            break\n",
    "        rusult = 1/math.log(float(input_number))\n",
    "        print (rusult)\n",
    "    except ValueError:\n",
    "        print ('input must > 0')\n",
    "    except ZeroDivisionError:\n",
    "        print ('input must =! 1')\n",
    "                "
   ]
  },
  {
   "cell_type": "code",
   "execution_count": null,
   "metadata": {},
   "outputs": [],
   "source": []
  }
 ],
 "metadata": {
  "kernelspec": {
   "display_name": "Python 3",
   "language": "python",
   "name": "python3"
  },
  "language_info": {
   "codemirror_mode": {
    "name": "ipython",
    "version": 3
   },
   "file_extension": ".py",
   "mimetype": "text/x-python",
   "name": "python",
   "nbconvert_exporter": "python",
   "pygments_lexer": "ipython3",
   "version": "3.6.5"
  }
 },
 "nbformat": 4,
 "nbformat_minor": 2
}
